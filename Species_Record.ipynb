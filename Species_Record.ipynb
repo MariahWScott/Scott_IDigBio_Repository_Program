{
 "cells": [
  {
   "cell_type": "markdown",
   "metadata": {},
   "source": [
    "## Create a cleaned and combined file from one or multiple IDigBio raw occurence files\n",
    "\n",
    "###### Begin by going to https://www.idigbio.org/portal/search and searching the portal for a desired species.  For each species download the comma-seperated CSV \"occurence\" file. Rename the file(s) with the scientific name of the represented species (Ex: Homo_sapian.csv).  Place the file(s) you want to include in the analyses in a directory with an informative name and then in a sub-directory named Input_Files.  There were four files created in this manner to be used as examples and placed in a folder named \"Mussel_Example.\"\n",
    "\n",
    "\n",
    "The final format should be...\n",
    "\n",
    "Directory containing this code >\n",
    "Directory with informative name > \n",
    "Directory named Input_Files >\n",
    "CSV file(s) with species name as their file name\n",
    "\n",
    "###### The default working directory is the Scott_Quarter_Project directory.\n",
    "\n",
    "This creates a file containing the species, institution code, catalog number, basis of record, individual count, country, state or province, locality, collection year, decimal latitude, and decimal longitude.  It also can combine multiple species into a single file. \n",
    "\n",
    "The identity of institution codes can be looked up at http://grbio.org/find-biorepositories"
   ]
  },
  {
   "cell_type": "markdown",
   "metadata": {},
   "source": [
    "Import necessary packages."
   ]
  },
  {
   "cell_type": "code",
   "execution_count": 1,
   "metadata": {
    "collapsed": true
   },
   "outputs": [],
   "source": [
    "import os\n",
    "import re\n",
    "import csv"
   ]
  },
  {
   "cell_type": "markdown",
   "metadata": {},
   "source": [
    "Name the directory that contains the file(s) you want to include in this single output document.  This directory should contain no other CSV files.  This step allows you to pick and choose the file(s), in case the working directory includes extra CSV files.\n",
    "\n",
    "**This cell should be customized as needed**"
   ]
  },
  {
   "cell_type": "code",
   "execution_count": 2,
   "metadata": {
    "collapsed": true
   },
   "outputs": [],
   "source": [
    "directory_name = 'Mussel_Project'"
   ]
  },
  {
   "cell_type": "markdown",
   "metadata": {},
   "source": [
    "Extract CSV file names from defined directory as a list.\n",
    "\n",
    "**Confirm the output of this cell is correct.**"
   ]
  },
  {
   "cell_type": "code",
   "execution_count": 3,
   "metadata": {},
   "outputs": [
    {
     "name": "stdout",
     "output_type": "stream",
     "text": [
      "['Amblema_plicata.csv', 'Ligumia_nasuta.csv', 'Quadrula_pustulosa.csv', 'Quadrula_quadrula.csv']\n"
     ]
    }
   ],
   "source": [
    "path = directory_name + \"/Input_Files\"\n",
    "extension = '.csv'\n",
    "\n",
    "list_of_files = []\n",
    "\n",
    "for root, dirs_list, files_list in os.walk(path):\n",
    "    for file_name in files_list:\n",
    "        if os.path.splitext(file_name)[-1] == extension:\n",
    "            list_of_files.append(file_name)\n",
    "print(list_of_files)"
   ]
  },
  {
   "cell_type": "markdown",
   "metadata": {},
   "source": [
    "Use UNIX to create a directory for cleaned files"
   ]
  },
  {
   "cell_type": "code",
   "execution_count": 4,
   "metadata": {},
   "outputs": [
    {
     "data": {
      "text/plain": [
       "1"
      ]
     },
     "execution_count": 4,
     "metadata": {},
     "output_type": "execute_result"
    }
   ],
   "source": [
    "os.chdir(directory_name)\n",
    "os.system(\"mkdir Cleaned_Files\")"
   ]
  },
  {
   "cell_type": "markdown",
   "metadata": {},
   "source": [
    "Create functions that return the collection year, latitude, longitude or a blank string, depending on the record"
   ]
  },
  {
   "cell_type": "code",
   "execution_count": 5,
   "metadata": {
    "collapsed": true
   },
   "outputs": [],
   "source": [
    "def find_collection_year(date):\n",
    "    try:\n",
    "        collection_year = (re.search(r'(\\d{4})', date)).group(1)\n",
    "    except:\n",
    "        collection_year = \"\"\n",
    "    return collection_year\n",
    "\n",
    "def find_lat(geopoint):\n",
    "    try:\n",
    "        lat = re.search(r'-?[0-9]\\d*(\\.\\d+)?', geopoint).group(0)\n",
    "    except:\n",
    "        lat = \"\"\n",
    "    return lat\n",
    "\n",
    "def find_long(geopoint):\n",
    "    try:\n",
    "        long = re.search(r'(-?[0-9]\\d*(\\.\\d+)?)}$', geopoint).group(1)\n",
    "    except:\n",
    "        long = \"\"\n",
    "    return long"
   ]
  },
  {
   "cell_type": "markdown",
   "metadata": {},
   "source": [
    "Create a function that creates an empty csv, cleans up the data for a given file, and saves the cleaned data by row as a file in the newley created Cleaned_Files directory."
   ]
  },
  {
   "cell_type": "code",
   "execution_count": 6,
   "metadata": {
    "collapsed": true
   },
   "outputs": [],
   "source": [
    "def clean_file(file):\n",
    "    # Make a list of the categories in order\n",
    "    filename = \"Input_Files/\" + file\n",
    "    outputname = \"Cleaned_Files/\" + file\n",
    "    categories = [\"species\", \"institution_code\", \"catalog_number\", \"basis_of_record\", \n",
    "                 \"individual_count\", \"country\", \"state_or_province\", \"locality\", \"collection_year\",\n",
    "                 \"latitude\", \"longitude\", \"\\n\"]\n",
    "    categories = \",\".join(categories)\n",
    "    fd = open (outputname, 'a')\n",
    "    fd.write(categories)\n",
    "    #make sure the species name is consistent for the records\n",
    "    species = re.search(r'(([a-zA-Z]*)_([a-zA-Z]*)).csv', list_of_files[0])\n",
    "    species = species.group(2) + \" \" + species.group(3)\n",
    "    #extract the unique values for each record\n",
    "    with (open(filename)) as f:\n",
    "        reader = csv.DictReader(f, delimiter = ',')\n",
    "        #for each row gather variables, removing periods in some\n",
    "        for i, rec in enumerate(reader):\n",
    "            institution_code = rec['dwc:institutionCode']\n",
    "            institution_code = institution_code.replace(\",\", \"\")\n",
    "            catalog_number = rec['dwc:catalogNumber']\n",
    "            catalog_number = catalog_number.replace(\",\", \"\")\n",
    "            basis_of_record = rec['dwc:basisOfRecord']\n",
    "            basis_of_record = basis_of_record.replace(\",\", \"\")\n",
    "            #If the individual count is blank, assume it is 1 \n",
    "            individual_count = rec['dwc:individualCount']\n",
    "            if individual_count == \"\":\n",
    "                individual_count = '1'\n",
    "            country = rec['dwc:country']\n",
    "            country = country.replace(\",\", \"\")\n",
    "            state_or_province = rec['dwc:stateProvince']\n",
    "            state_or_province = state_or_province.replace(\",\", \"\")\n",
    "            locality = rec[\"dwc:locality\"]\n",
    "            locality = locality.replace(\",\", \"\")\n",
    "            collection_year = find_collection_year(rec['idigbio:eventDate'])\n",
    "            latitude = find_lat(rec['idigbio:geoPoint'])\n",
    "            longitude =find_long(rec['idigbio:geoPoint'])\n",
    "            rec = [species, institution_code, catalog_number, basis_of_record, \n",
    "                 individual_count, country, state_or_province, locality, collection_year,\n",
    "                 latitude, longitude, \"\\n\"]\n",
    "            rec = \",\".join(rec)\n",
    "            fd = open (outputname, 'a')\n",
    "            fd.write(rec)\n",
    "    fd.close()\n",
    "    return()"
   ]
  },
  {
   "cell_type": "markdown",
   "metadata": {},
   "source": [
    "Make individual csv files for each species"
   ]
  },
  {
   "cell_type": "code",
   "execution_count": 7,
   "metadata": {},
   "outputs": [
    {
     "name": "stdout",
     "output_type": "stream",
     "text": [
      "Completed file Amblema_plicata.csv\n",
      "Completed file Ligumia_nasuta.csv\n",
      "Completed file Quadrula_pustulosa.csv\n",
      "Completed file Quadrula_quadrula.csv\n"
     ]
    }
   ],
   "source": [
    "for i in files_list:\n",
    "    clean_file(i)\n",
    "    print(\"Completed file \" + i)"
   ]
  },
  {
   "cell_type": "markdown",
   "metadata": {
    "collapsed": true
   },
   "source": [
    "Make a combined csv file for each species"
   ]
  },
  {
   "cell_type": "code",
   "execution_count": 8,
   "metadata": {
    "collapsed": true
   },
   "outputs": [],
   "source": [
    "combined_file_name = \"Cleaned_Files/Combined_\" + directory_name + \".csv\"\n",
    "combined_file = open(combined_file_name,\"a\")\n",
    "\n",
    "#Write in headers\n",
    "categories = [\"species\", \"institution_code\", \"catalog_number\", \"basis_of_record\", \n",
    "                 \"individual_count\", \"country\", \"state_or_province\", \"locality\", \"collection_year\",\n",
    "                 \"latitude\", \"longitude\", \"\\n\"]\n",
    "categories = \",\".join(categories)\n",
    "combined_file.write(categories)\n",
    "\n",
    "# now the individual files:    \n",
    "for file in files_list:\n",
    "    file = combined_file_name = \"Cleaned_Files/\" + file\n",
    "    f = open(file)\n",
    "    f.__next__() # skip the header\n",
    "    for line in f:\n",
    "         combined_file.write(line)\n",
    "    f.close() # not really needed\n",
    "combined_file.close()"
   ]
  },
  {
   "cell_type": "markdown",
   "metadata": {},
   "source": [
    "This combined csv file or individual species file can be input into the R script \"Species_Record_Analyses\" to determine the top institution with these specimens, as well as create lists of specimen details, including catalog numbers, based on institution."
   ]
  }
 ],
 "metadata": {
  "kernelspec": {
   "display_name": "Python 3",
   "language": "python",
   "name": "python3"
  },
  "language_info": {
   "codemirror_mode": {
    "name": "ipython",
    "version": 3
   },
   "file_extension": ".py",
   "mimetype": "text/x-python",
   "name": "python",
   "nbconvert_exporter": "python",
   "pygments_lexer": "ipython3",
   "version": "3.6.3"
  }
 },
 "nbformat": 4,
 "nbformat_minor": 2
}
